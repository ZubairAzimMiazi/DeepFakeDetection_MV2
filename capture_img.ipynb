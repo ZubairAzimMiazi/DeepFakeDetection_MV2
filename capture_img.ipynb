{
  "nbformat": 4,
  "nbformat_minor": 0,
  "metadata": {
    "colab": {
      "name": "capture_img.ipynb",
      "provenance": [],
      "collapsed_sections": []
    },
    "kernelspec": {
      "display_name": "Python 3",
      "language": "python",
      "name": "python3"
    },
    "language_info": {
      "codemirror_mode": {
        "name": "ipython",
        "version": 3
      },
      "file_extension": ".py",
      "mimetype": "text/x-python",
      "name": "python",
      "nbconvert_exporter": "python",
      "pygments_lexer": "ipython3",
      "version": "3.8.8"
    }
  },
  "cells": [
    {
      "cell_type": "markdown",
      "metadata": {
        "id": "m_vWZUJq-BhQ"
      },
      "source": [
        "# **Deepfake Detection Using CNN**"
      ]
    },
    {
      "cell_type": "markdown",
      "metadata": {
        "id": "N0VLHj_d-NhS"
      },
      "source": [
        "**Importing all necessary libraries**"
      ]
    },
    {
      "cell_type": "code",
      "metadata": {
        "id": "3cIpNN2aG8Q5"
      },
      "source": [
        "import dlib\n",
        "import cv2\n",
        "import os\n",
        "import json\n",
        "from PIL import Image, ImageChops, ImageEnhance\n",
        "\n",
        "import tensorflow as tf\n",
        "import numpy as np\n",
        "import matplotlib.pyplot as plt\n",
        "import seaborn as sn\n",
        "import pandas as pd\n",
        "from tensorflow.keras.preprocessing.image import ImageDataGenerator, img_to_array, load_img\n",
        "from tensorflow.keras.utils import to_categorical\n",
        "from sklearn.model_selection import train_test_split\n",
        "from sklearn.metrics import confusion_matrix\n",
        "\n",
        "import keras_preprocessing\n",
        "from keras_preprocessing import image\n",
        "import shutil\n",
        "\n",
        "\n",
        "from tensorflow.keras.models import Model"
      ],
      "execution_count": null,
      "outputs": []
    },
    {
      "cell_type": "markdown",
      "metadata": {
        "id": "hK8zklXD-65_"
      },
      "source": [
        "**Mount the drive to colab**"
      ]
    },
    {
      "cell_type": "code",
      "metadata": {
        "colab": {
          "base_uri": "https://localhost:8080/"
        },
        "id": "0y1iClRCJbpJ",
        "outputId": "2156399f-e610-4e86-9793-5c046f61c8d3"
      },
      "source": [
        "from google.colab import drive\n",
        "drive.mount('/content/drive')"
      ],
      "execution_count": null,
      "outputs": [
        {
          "name": "stdout",
          "output_type": "stream",
          "text": [
            "Drive already mounted at /content/drive; to attempt to forcibly remount, call drive.mount(\"/content/drive\", force_remount=True).\n"
          ]
        }
      ]
    },
    {
      "cell_type": "code",
      "metadata": {
        "colab": {
          "background_save": true
        },
        "id": "Z5lVKznKYTSL",
        "outputId": "216055fc-7c8f-40ba-d52e-b63548de8465"
      },
      "source": [
        "len(os.listdir(\"/content/drive/MyDrive/DATA/140K_data/real_vs_fake/real-vs-fake/train/real\"))"
      ],
      "execution_count": null,
      "outputs": [
        {
          "data": {
            "text/plain": [
              "15231"
            ]
          },
          "execution_count": null,
          "metadata": {},
          "output_type": "execute_result"
        }
      ]
    },
    {
      "cell_type": "markdown",
      "metadata": {
        "id": "B8EGiij2_Hpv"
      },
      "source": [
        "**Capturing images from the vidoes. Using the metadata, splitting the images into two labels named \"fake\" and \"real\".**"
      ]
    },
    {
      "cell_type": "code",
      "metadata": {
        "id": "MXSRededG8Q6"
      },
      "source": [
        "train_frame_folder = '/content/drive/MyDrive/DATA/dfdc_train_part_05/dfdc_train_part_5'\n",
        "\n",
        "meta_path = \"\"\n",
        "\n",
        "for i in os.listdir(train_frame_folder):\n",
        "    if i.split(\".\")[1] == \"json\":\n",
        "        meta_path = train_frame_folder + \"/\" + i\n",
        "\n",
        "with open(os.path.join(train_frame_folder, meta_path), 'r') as file:\n",
        "    data = json.load(file)\n",
        "list_of_train_data = [f for f in os.listdir(train_frame_folder) if f.endswith('.mp4')]\n",
        "detector = dlib.get_frontal_face_detector()\n",
        "for vid in list_of_train_data:\n",
        "    count = 0\n",
        "    cap = cv2.VideoCapture(os.path.join(train_frame_folder, vid))\n",
        "    frameRate = cap.get(5)\n",
        "    while cap.isOpened():\n",
        "        frameId = cap.get(1)\n",
        "        ret, frame = cap.read()\n",
        "        if ret != True:\n",
        "            break\n",
        "        if frameId % ((int(frameRate)+1)*1) == 0:\n",
        "            face_rects, scores, idx = detector.run(frame, 0)\n",
        "            for i, d in enumerate(face_rects):\n",
        "                x1 = d.left()\n",
        "                y1 = d.top()\n",
        "                x2 = d.right()\n",
        "                y2 = d.bottom()\n",
        "                crop_img = frame[y1:y2, x1:x2]\n",
        "                if data[vid]['label'] == 'REAL':\n",
        "                    cv2.imwrite('/content/drive/MyDrive/DATA/DeepVideos/test_data/real/'+vid.split('.')[0]+'_'+str(count)+'.jpg', frame)\n",
        "                elif data[vid]['label'] == 'FAKE':\n",
        "                    cv2.imwrite('/content/drive/MyDrive/DATA/DeepVideos/test_data/fake/'+vid.split('.')[0]+'_'+str(count)+'.jpg', frame) \n",
        "                    # print(count+1)\n",
        "                count+=1"
      ],
      "execution_count": null,
      "outputs": []
    },
    {
      "cell_type": "markdown",
      "metadata": {
        "id": "GqM3AsLW_p-n"
      },
      "source": [
        "**There are showing two ways to preprocess the data before training.** \n",
        "\n",
        "One way is to convert the images to grayscale, and store them into csv file. And the another way is using ImageDataGenerator library."
      ]
    },
    {
      "cell_type": "markdown",
      "metadata": {
        "id": "-n6uCAfu47QN"
      },
      "source": [
        "Not Using this now...\n"
      ]
    },
    {
      "cell_type": "markdown",
      "metadata": {
        "id": "e-WGzJ9PBDye"
      },
      "source": [
        "**Gray Scale method**"
      ]
    },
    {
      "cell_type": "code",
      "metadata": {
        "colab": {
          "base_uri": "https://localhost:8080/",
          "height": 231
        },
        "id": "4Xkob9tQ7qTK",
        "outputId": "beb8f64f-cbfe-486e-cbd5-4e64b6ee6cbb"
      },
      "source": [
        "input_shape = (28,28, 3)\n",
        "data_dir = '/content/drive/MyDrive/DATA/DeepVideos'\n",
        "\n",
        "real_data = [f for f in os.listdir(data_dir+'/real') if f.endswith('.jpg')]\n",
        "fake_data = [f for f in os.listdir(data_dir+'/fake') if f.endswith('.jpg')]\n",
        "\n",
        "X = []\n",
        "Y = []\n",
        "\n",
        "for img in real_data:\n",
        "    image = Image.open(data_dir+'/real/'+img)\n",
        "    resized_img = image.resize((28,28))\n",
        "    X.append(img_to_array(resized_img).flatten() / 255.0)\n",
        "    # X.append(img_to_array(image).flatten() / 255.0)\n",
        "    Y.append(1)\n",
        "for img in fake_data:\n",
        "    image = Image.open(data_dir+'/fake/'+img)\n",
        "    resized_img = image.resize((28,28))\n",
        "    X.append(img_to_array(resized_img).flatten() / 255.0)\n",
        "    # X.append(img_to_array(image).flatten() / 255.0)\n",
        "    Y.append(0)\n",
        "\n",
        "Y_val_org = Y\n",
        "\n",
        "#Normalization\n",
        "X = np.array(X)\n",
        "Y = to_categorical(Y, 2)\n",
        "\n",
        "#Reshape\n",
        "X = X.reshape(-1, 28, 28, 3)\n",
        "\n",
        "np.savetxt('/content/drive/MyDrive/DATA/DeepVideos/X.csv', X.reshape(3,-1), delimiter=' ')\n",
        "np.savetxt('/content/drive/MyDrive/DATA/DeepVideos/y.csv', Y, delimiter=' ')\n"
      ],
      "execution_count": null,
      "outputs": [
        {
          "ename": "FileNotFoundError",
          "evalue": "ignored",
          "output_type": "error",
          "traceback": [
            "\u001b[0;31m---------------------------------------------------------------------------\u001b[0m",
            "\u001b[0;31mFileNotFoundError\u001b[0m                         Traceback (most recent call last)",
            "\u001b[0;32m<ipython-input-3-84f3931ae9bc>\u001b[0m in \u001b[0;36m<module>\u001b[0;34m()\u001b[0m\n\u001b[1;32m      2\u001b[0m \u001b[0mdata_dir\u001b[0m \u001b[0;34m=\u001b[0m \u001b[0;34m'/content/drive/MyDrive/DATA/DeepVideos'\u001b[0m\u001b[0;34m\u001b[0m\u001b[0;34m\u001b[0m\u001b[0m\n\u001b[1;32m      3\u001b[0m \u001b[0;34m\u001b[0m\u001b[0m\n\u001b[0;32m----> 4\u001b[0;31m \u001b[0mreal_data\u001b[0m \u001b[0;34m=\u001b[0m \u001b[0;34m[\u001b[0m\u001b[0mf\u001b[0m \u001b[0;32mfor\u001b[0m \u001b[0mf\u001b[0m \u001b[0;32min\u001b[0m \u001b[0mos\u001b[0m\u001b[0;34m.\u001b[0m\u001b[0mlistdir\u001b[0m\u001b[0;34m(\u001b[0m\u001b[0mdata_dir\u001b[0m\u001b[0;34m+\u001b[0m\u001b[0;34m'/real'\u001b[0m\u001b[0;34m)\u001b[0m \u001b[0;32mif\u001b[0m \u001b[0mf\u001b[0m\u001b[0;34m.\u001b[0m\u001b[0mendswith\u001b[0m\u001b[0;34m(\u001b[0m\u001b[0;34m'.jpg'\u001b[0m\u001b[0;34m)\u001b[0m\u001b[0;34m]\u001b[0m\u001b[0;34m\u001b[0m\u001b[0;34m\u001b[0m\u001b[0m\n\u001b[0m\u001b[1;32m      5\u001b[0m \u001b[0mfake_data\u001b[0m \u001b[0;34m=\u001b[0m \u001b[0;34m[\u001b[0m\u001b[0mf\u001b[0m \u001b[0;32mfor\u001b[0m \u001b[0mf\u001b[0m \u001b[0;32min\u001b[0m \u001b[0mos\u001b[0m\u001b[0;34m.\u001b[0m\u001b[0mlistdir\u001b[0m\u001b[0;34m(\u001b[0m\u001b[0mdata_dir\u001b[0m\u001b[0;34m+\u001b[0m\u001b[0;34m'/fake'\u001b[0m\u001b[0;34m)\u001b[0m \u001b[0;32mif\u001b[0m \u001b[0mf\u001b[0m\u001b[0;34m.\u001b[0m\u001b[0mendswith\u001b[0m\u001b[0;34m(\u001b[0m\u001b[0;34m'.jpg'\u001b[0m\u001b[0;34m)\u001b[0m\u001b[0;34m]\u001b[0m\u001b[0;34m\u001b[0m\u001b[0;34m\u001b[0m\u001b[0m\n\u001b[1;32m      6\u001b[0m \u001b[0;34m\u001b[0m\u001b[0m\n",
            "\u001b[0;31mFileNotFoundError\u001b[0m: [Errno 2] No such file or directory: '/content/drive/MyDrive/DATA/DeepVideos/real'"
          ]
        }
      ]
    },
    {
      "cell_type": "code",
      "metadata": {
        "id": "KhhGVSj6ZoIF"
      },
      "source": [
        "X = np.loadtxt(\"/content/drive/MyDrive/DATA/DeepVideos/X.csv\")\n",
        "X=X.reshape(-1,28,28,3)\n",
        "\n",
        "Y = np.loadtxt(\"/content/drive/MyDrive/DATA/DeepVideos/y.csv\")"
      ],
      "execution_count": null,
      "outputs": []
    },
    {
      "cell_type": "markdown",
      "metadata": {
        "id": "J5PeCqZ1DwHW"
      },
      "source": [
        "If we use the above method, then we can split our datasets like this way."
      ]
    },
    {
      "cell_type": "code",
      "metadata": {
        "id": "8sEQfjP-CLrV"
      },
      "source": [
        "#Train-Test split\n",
        "X_train, X_val, Y_train, Y_val = train_test_split(X, Y, test_size = 0.3, random_state=5)"
      ],
      "execution_count": null,
      "outputs": []
    },
    {
      "cell_type": "markdown",
      "metadata": {
        "id": "STy0CCCLBXSP"
      },
      "source": [
        "**Using ImageDataGenerator Library**\n",
        "\n",
        "In this method, we just have to specify the directory path of our data. Then the library will process the images by itself. In addtion, to get a better accuracy I used ***Image Augmentation*** here, so that our model can testify our test data with less loss including more accuracy.\n"
      ]
    },
    {
      "cell_type": "code",
      "metadata": {
        "colab": {
          "base_uri": "https://localhost:8080/"
        },
        "id": "Fw11VVTx3ooU",
        "outputId": "deebdf45-9c56-4ae4-d558-9823633290da"
      },
      "source": [
        "TRAINING_DIR = \"/content/drive/MyDrive/DATA/DeepVideos/train_data\"\n",
        "training_datagen = ImageDataGenerator(\n",
        "      rescale = 1./255,\n",
        "      rotation_range=10,\n",
        "      width_shift_range=0.2,\n",
        "      height_shift_range=0.2,\n",
        "      shear_range=0.2,\n",
        "      zoom_range=0.2,\n",
        "      horizontal_flip=True)\n",
        "\n",
        "VALIDATION_DIR = \"/content/drive/MyDrive/DATA/DeepVideos/test_Data\"\n",
        "validation_datagen = ImageDataGenerator(rescale = 1./255)\n",
        "\n",
        "train_generator = training_datagen.flow_from_directory(\n",
        "\tTRAINING_DIR,\n",
        "\ttarget_size=(150,150),\n",
        "\tclass_mode='binary',\n",
        "  batch_size= 10\n",
        ")\n",
        "\n",
        "validation_generator = validation_datagen.flow_from_directory(\n",
        "\tVALIDATION_DIR,\n",
        "\ttarget_size=(150,150),\n",
        "\tclass_mode='binary',\n",
        "  batch_size= 10\n",
        ")"
      ],
      "execution_count": null,
      "outputs": [
        {
          "name": "stdout",
          "output_type": "stream",
          "text": [
            "Found 17879 images belonging to 2 classes.\n",
            "Found 6333 images belonging to 2 classes.\n"
          ]
        }
      ]
    },
    {
      "cell_type": "markdown",
      "metadata": {
        "id": "bM-ktxU8CTMu"
      },
      "source": [
        "This method is used to get the label indices after using **ImageDataGenerator**. Here is shown only for training data, similarly we can get for the validation data."
      ]
    },
    {
      "cell_type": "code",
      "metadata": {
        "colab": {
          "base_uri": "https://localhost:8080/"
        },
        "id": "Q4zA4cS13sZv",
        "outputId": "4d50bf75-6d19-413c-b129-b053089cd50c"
      },
      "source": [
        "train_generator.class_indices"
      ],
      "execution_count": null,
      "outputs": [
        {
          "data": {
            "text/plain": [
              "{'fake': 0, 'real': 1}"
            ]
          },
          "execution_count": 4,
          "metadata": {},
          "output_type": "execute_result"
        }
      ]
    },
    {
      "cell_type": "markdown",
      "metadata": {
        "id": "M57dyKLbC9je"
      },
      "source": [
        "**Another way to split datasets.**\n",
        "\n",
        "The next cell is not necessary all the time. If we have less data, then we can split our data into two sets like this way. One is for training, and the another is for validation.\n",
        "\n",
        "Not in use now..."
      ]
    },
    {
      "cell_type": "code",
      "metadata": {
        "id": "32RFmqPz5IBi"
      },
      "source": [
        "root_dir = '/content/drive/MyDrive/DATA/DeepVideos/Data/'\n",
        "classes_dir = ['fake', 'real']\n",
        "\n",
        "test_ratio = 0.20\n",
        "\n",
        "for cls in classes_dir:\n",
        "    os.makedirs(root_dir +'train/' + cls)\n",
        "    os.makedirs(root_dir +'test/' + cls)\n",
        "\n",
        "    src = root_dir + cls\n",
        "\n",
        "    allFileNames = os.listdir(src)\n",
        "    np.random.shuffle(allFileNames)\n",
        "    train_FileNames, test_FileNames = np.split(np.array(allFileNames),\n",
        "                                                              [int(len(allFileNames)* (1 - test_ratio))])\n",
        "\n",
        "\n",
        "    train_FileNames = [src+'/'+ name for name in train_FileNames.tolist()]\n",
        "    test_FileNames = [src+'/' + name for name in test_FileNames.tolist()]\n",
        "\n",
        "    print(\"*****************************\")\n",
        "    print('Total images: ', len(allFileNames))\n",
        "    print('Training: ', len(train_FileNames))\n",
        "    print('Testing: ', len(test_FileNames))\n",
        "    print(\"*****************************\")\n",
        "\n",
        "\n",
        "    for name in train_FileNames:\n",
        "        for i in classes_dir:\n",
        "            shutil.copy(name, root_dir +'train/' + i)\n",
        "\n",
        "    for name in test_FileNames:\n",
        "        for i in classes_dir:\n",
        "            shutil.copy(name, root_dir +'test/' + i)\n",
        "    print(\"Copying Done!\")"
      ],
      "execution_count": null,
      "outputs": []
    },
    {
      "cell_type": "markdown",
      "metadata": {
        "id": "3ymbpRovD9xn"
      },
      "source": [
        "**Building the model.**\n",
        "\n",
        "This model is about the **Convolutional Neural Network** (CNN). Here I used 3 convolutional layers with 3 maxpooling2D layers. Then we flatten the outputs coming from the CNN layers, and feed them into the **Deep Neural Network** (DNN) layers. Our model is working as **Binary Classification** model. \n",
        "\n",
        "This model has problems and needs further tuning and multiple changes - Nazmul"
      ]
    },
    {
      "cell_type": "code",
      "metadata": {
        "colab": {
          "base_uri": "https://localhost:8080/"
        },
        "id": "gYR5dmfwonPg",
        "outputId": "4b62b68e-e2f2-4bf4-e56e-75307c67249e"
      },
      "source": [
        "model1 = tf.keras.models.Sequential([\n",
        "    # Note the input shape is the desired size of the image 150x150 with 3 bytes color\n",
        "    # This is the first convolution\n",
        "    tf.keras.layers.Conv2D(32, (3,3), activation='relu', input_shape=(150, 150, 3)),\n",
        "    tf.keras.layers.MaxPooling2D(2, 2),\n",
        "    # The second convolution\n",
        "    tf.keras.layers.Conv2D(64, (3,3), activation='relu'),\n",
        "    tf.keras.layers.MaxPooling2D(2,2),\n",
        "    tf.keras.layers.Conv2D(64, (3,3), activation='relu'),\n",
        "    tf.keras.layers.MaxPooling2D(2,2),\n",
        "    # The third convolution\n",
        "    tf.keras.layers.Conv2D(128, (3,3), activation='relu'),\n",
        "    tf.keras.layers.MaxPooling2D(2,2),\n",
        "    # Flatten the results to feed into a DNN\n",
        "    tf.keras.layers.Flatten(),\n",
        "    # 512 neuron hidden layer\n",
        "    tf.keras.layers.Dense(1024, activation='relu'),\n",
        "    tf.keras.layers.Dropout(0.2),\n",
        "    tf.keras.layers.Dense(1, activation='sigmoid')\n",
        "])\n",
        "\n",
        "\n",
        "model1.summary()"
      ],
      "execution_count": null,
      "outputs": [
        {
          "name": "stdout",
          "output_type": "stream",
          "text": [
            "Model: \"sequential_4\"\n",
            "_________________________________________________________________\n",
            "Layer (type)                 Output Shape              Param #   \n",
            "=================================================================\n",
            "conv2d_16 (Conv2D)           (None, 148, 148, 32)      896       \n",
            "_________________________________________________________________\n",
            "max_pooling2d_16 (MaxPooling (None, 74, 74, 32)        0         \n",
            "_________________________________________________________________\n",
            "conv2d_17 (Conv2D)           (None, 72, 72, 64)        18496     \n",
            "_________________________________________________________________\n",
            "max_pooling2d_17 (MaxPooling (None, 36, 36, 64)        0         \n",
            "_________________________________________________________________\n",
            "conv2d_18 (Conv2D)           (None, 34, 34, 64)        36928     \n",
            "_________________________________________________________________\n",
            "max_pooling2d_18 (MaxPooling (None, 17, 17, 64)        0         \n",
            "_________________________________________________________________\n",
            "conv2d_19 (Conv2D)           (None, 15, 15, 128)       73856     \n",
            "_________________________________________________________________\n",
            "max_pooling2d_19 (MaxPooling (None, 7, 7, 128)         0         \n",
            "_________________________________________________________________\n",
            "flatten_4 (Flatten)          (None, 6272)              0         \n",
            "_________________________________________________________________\n",
            "dense_8 (Dense)              (None, 1024)              6423552   \n",
            "_________________________________________________________________\n",
            "dropout_4 (Dropout)          (None, 1024)              0         \n",
            "_________________________________________________________________\n",
            "dense_9 (Dense)              (None, 1)                 1025      \n",
            "=================================================================\n",
            "Total params: 6,554,753\n",
            "Trainable params: 6,554,753\n",
            "Non-trainable params: 0\n",
            "_________________________________________________________________\n"
          ]
        }
      ]
    },
    {
      "cell_type": "markdown",
      "metadata": {
        "id": "I3YBBgCzGIXG"
      },
      "source": [
        "Now, compiled the model."
      ]
    },
    {
      "cell_type": "code",
      "metadata": {
        "id": "Vw4_jV3vpkSc"
      },
      "source": [
        "model1.compile(loss='binary_crossentropy',\n",
        "              optimizer = \"adam\",\n",
        "              metrics=['accuracy'])"
      ],
      "execution_count": null,
      "outputs": []
    },
    {
      "cell_type": "markdown",
      "metadata": {
        "id": "-6rVXONZGOda"
      },
      "source": [
        "In this cell, the model will be trained, and will be saved to the drive directory where I want to save..\n",
        "There is problem after dropout has been added and dense layer has been increased. \n",
        "validation was consistent for all epochs at 91%\n"
      ]
    },
    {
      "cell_type": "code",
      "metadata": {
        "colab": {
          "base_uri": "https://localhost:8080/"
        },
        "id": "JsE7Etxs8T-h",
        "outputId": "88876a02-1f62-44fe-faba-c572dc8d045f"
      },
      "source": [
        "#Currently not used\n",
        "# early_stopping = EarlyStopping(monitor='val_loss',\n",
        "#                                min_delta=0,\n",
        "#                                patience=2,\n",
        "#                                verbose=0, mode='auto')\n",
        "EPOCHS = 10\n",
        "#BATCH_SIZE = 300\n",
        "history = model1.fit(train_generator, epochs = EPOCHS, steps_per_epoch=10, shuffle = True, validation_data= validation_generator, verbose = 1)\n",
        "\n",
        "model1.save('/content/drive/MyDrive/DATA/DeepVideos/deepfake-detection-model.h5')"
      ],
      "execution_count": null,
      "outputs": [
        {
          "name": "stdout",
          "output_type": "stream",
          "text": [
            "Epoch 1/10\n",
            "10/10 [==============================] - 222s 24s/step - loss: 0.5815 - accuracy: 0.8100 - val_loss: 0.4069 - val_accuracy: 0.9195\n",
            "Epoch 2/10\n",
            "10/10 [==============================] - 221s 24s/step - loss: 0.4426 - accuracy: 0.8800 - val_loss: 0.3545 - val_accuracy: 0.9195\n",
            "Epoch 3/10\n",
            "10/10 [==============================] - 220s 24s/step - loss: 0.4436 - accuracy: 0.8400 - val_loss: 0.3363 - val_accuracy: 0.9195\n",
            "Epoch 4/10\n",
            "10/10 [==============================] - 223s 24s/step - loss: 0.5185 - accuracy: 0.8300 - val_loss: 0.4816 - val_accuracy: 0.9195\n",
            "Epoch 5/10\n",
            "10/10 [==============================] - 221s 24s/step - loss: 0.4335 - accuracy: 0.8500 - val_loss: 0.3052 - val_accuracy: 0.9195\n",
            "Epoch 6/10\n",
            "10/10 [==============================] - 220s 24s/step - loss: 0.5579 - accuracy: 0.8300 - val_loss: 0.4527 - val_accuracy: 0.9195\n",
            "Epoch 7/10\n",
            "10/10 [==============================] - 222s 24s/step - loss: 0.4791 - accuracy: 0.8300 - val_loss: 0.3017 - val_accuracy: 0.9195\n",
            "Epoch 8/10\n",
            "10/10 [==============================] - 223s 25s/step - loss: 0.4955 - accuracy: 0.8000 - val_loss: 0.3654 - val_accuracy: 0.9195\n",
            "Epoch 9/10\n",
            "10/10 [==============================] - 222s 24s/step - loss: 0.2866 - accuracy: 0.9300 - val_loss: 0.3115 - val_accuracy: 0.9195\n",
            "Epoch 10/10\n",
            "10/10 [==============================] - 227s 25s/step - loss: 0.4066 - accuracy: 0.8900 - val_loss: 0.3291 - val_accuracy: 0.9195\n"
          ]
        }
      ]
    },
    {
      "cell_type": "markdown",
      "metadata": {
        "id": "SblmYdeCHo24"
      },
      "source": [
        "Now, we will visualize the accuray and the loss value on the training data and the validation data what we got during the training."
      ]
    },
    {
      "cell_type": "code",
      "metadata": {
        "colab": {
          "base_uri": "https://localhost:8080/",
          "height": 294
        },
        "id": "YyfHI8y58cy9",
        "outputId": "fcfe7509-6aa4-44f4-f9fd-f439bac5da43"
      },
      "source": [
        "f, (ax1, ax2) = plt.subplots(1, 2, figsize=(20, 4))\n",
        "t = f.suptitle('CNN training with Fine-Tuning & Image Augmentation Performance ', fontsize=12)\n",
        "f.subplots_adjust(top=0.85, wspace=0.3)\n",
        "\n",
        "epoch_list = list(range(1,EPOCHS+1))\n",
        "ax1.plot(epoch_list, history.history['accuracy'], label='Train Accuracy')\n",
        "ax1.plot(epoch_list, history.history['val_accuracy'], label='Validation Accuracy')\n",
        "ax1.set_xticks(np.arange(0, EPOCHS+1, 1))\n",
        "ax1.set_ylabel('Accuracy Value')\n",
        "ax1.set_xlabel('Epoch #')\n",
        "ax1.set_title('Accuracy')\n",
        "l1 = ax1.legend(loc=\"best\")\n",
        "\n",
        "ax2.plot(epoch_list, history.history['loss'], label='Train Loss')\n",
        "ax2.plot(epoch_list, history.history['val_loss'], label='Validation Loss')\n",
        "ax2.set_xticks(np.arange(0, EPOCHS+1, 1))\n",
        "ax2.set_ylabel('Loss Value')\n",
        "ax2.set_xlabel('Epoch #')\n",
        "ax2.set_title('Loss')\n",
        "l2 = ax2.legend(loc=\"best\")\n"
      ],
      "execution_count": null,
      "outputs": [
        {
          "data": {
            "image/png": "[encoded data removed]",
            "text/plain": [
              "<Figure size 1440x288 with 2 Axes>"
            ]
          },
          "metadata": {},
          "output_type": "display_data"
        }
      ]
    },
    {
      "cell_type": "markdown",
      "metadata": {
        "id": "PGRneFzuGxv-"
      },
      "source": [
        "**Loading the saved model**\n",
        "\n",
        "Now, just to testify we will load our previously saved model, and make prediction on the test data. In addition, after getting the predicted values we will produce a **confusion matrix**."
      ]
    },
    {
      "cell_type": "code",
      "metadata": {
        "id": "RzKQ0Y8mb2sO"
      },
      "source": [
        "model_load = tf.keras.models.load_model(\"/content/drive/MyDrive/DATA/DeepVideos/deepfake-detection-model.h5\")"
      ],
      "execution_count": null,
      "outputs": []
    },
    {
      "cell_type": "code",
      "metadata": {
        "colab": {
          "base_uri": "https://localhost:8080/",
          "height": 403
        },
        "id": "fwUdgQVF3ver",
        "outputId": "048672c4-d866-43be-f71d-21e9db647f2e"
      },
      "source": [
        "#Output confusion matrix\n",
        "def print_confusion_matrix(y_true, y_pred):\n",
        "    cm = confusion_matrix(y_true, y_pred)\n",
        "    print('True positive = ', cm[0][0])\n",
        "    print('False positive = ', cm[0][1])\n",
        "    print('False negative = ', cm[1][0])\n",
        "    print('True negative = ', cm[1][1])\n",
        "    print('\\n')\n",
        "    df_cm = pd.DataFrame(cm, range(2), range(2))\n",
        "    sn.set(font_scale=1.4) # for label size\n",
        "    sn.heatmap(df_cm, annot=True, annot_kws={\"size\": 16}) # font size\n",
        "    plt.ylabel('Actual label', size = 20)\n",
        "    plt.xlabel('Predicted label', size = 20)\n",
        "    plt.xticks(np.arange(2), ['Fake', 'Real'], size = 16)\n",
        "    plt.yticks(np.arange(2), ['Fake', 'Real'], size = 16)\n",
        "    plt.ylim([2, 0])\n",
        "    plt.show()\n",
        "\n",
        "\n",
        "imag_pred = []\n",
        "y = []\n",
        "\n",
        "for fn in os.listdir(\"/content/drive/MyDrive/DATA/DeepVideos/train_Data\"):\n",
        "  # predicting images\n",
        "  for i in os.listdir(\"/content/drive/MyDrive/DATA/DeepVideos/train_Data/\" + fn):\n",
        "    if fn == \"fake\":\n",
        "      y.append(0)\n",
        "    elif fn == \"real\":\n",
        "      y.append(1)\n",
        "    path = \"/content/drive/MyDrive/DATA/DeepVideos/train_Data/\" + fn + \"/\" + i\n",
        "    img = image.load_img(path, target_size=(48,48))\n",
        "    x = image.img_to_array(img)\n",
        "    x = np.expand_dims(x, axis=0)\n",
        "\n",
        "    images = np.vstack([x])\n",
        "    \n",
        "    imag_pred.append(round(model_load.predict(images)[0][0]))\n",
        "\n",
        "    \n",
        "print_confusion_matrix(y, imag_pred)"
      ],
      "execution_count": null,
      "outputs": [
        {
          "name": "stdout",
          "output_type": "stream",
          "text": [
            "True positive =  5823\n",
            "False positive =  0\n",
            "False negative =  510\n",
            "True negative =  0\n",
            "\n",
            "\n"
          ]
        },
        {
          "data": {
            "image/png": "[encoded data removed]",
            "text/plain": [
              "<Figure size 432x288 with 2 Axes>"
            ]
          },
          "metadata": {},
          "output_type": "display_data"
        }
      ]
    },
    {
      "cell_type": "code",
      "metadata": {
        "id": "ahn38CW-3vj4"
      },
      "source": [
        ""
      ],
      "execution_count": null,
      "outputs": []
    }
  ]
}